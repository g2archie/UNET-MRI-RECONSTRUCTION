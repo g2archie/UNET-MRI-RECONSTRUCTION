{
 "cells": [
  {
   "cell_type": "code",
   "execution_count": 1,
   "metadata": {},
   "outputs": [],
   "source": [
    "from skimage import *\n",
    "from matplotlib import pyplot as plt\n",
    "\n",
    "import numpy as np\n",
    "import h5py "
   ]
  },
  {
   "cell_type": "markdown",
   "metadata": {},
   "source": [
    "# Load the result data"
   ]
  },
  {
   "cell_type": "code",
   "execution_count": 2,
   "metadata": {},
   "outputs": [],
   "source": [
    "training_result = \"/home/wentao/UNet-MRI-Reconstruction/keras_training/UNet3D_old_SSIM_loss_no_regularization/20190827-031514/predictions/result.h5\""
   ]
  },
  {
   "cell_type": "code",
   "execution_count": 3,
   "metadata": {},
   "outputs": [],
   "source": [
    "task_name = 'UNet3D_old_SSIM_loss_no_regularization'"
   ]
  },
  {
   "cell_type": "code",
   "execution_count": 4,
   "metadata": {},
   "outputs": [],
   "source": [
    "f = h5py.File(training_result,'r') \n",
    "result = np.array(f.get('result'))\n",
    "truth = np.array(f.get('truth'))\n",
    "imag = np.array(f.get('input'))"
   ]
  },
  {
   "cell_type": "markdown",
   "metadata": {},
   "source": [
    "## Calculate the metrics"
   ]
  },
  {
   "cell_type": "code",
   "execution_count": null,
   "metadata": {},
   "outputs": [],
   "source": [
    "psnr = []\n",
    "mse = []\n",
    "nrmse = []\n",
    "ssim = []\n",
    "for i in range(0, truth.shape[0]):\n",
    "    psnr.append(measure.compare_psnr(result[i],truth[i], 1))\n",
    "    mse.append(measure.compare_mse(result[i], truth[i]))\n",
    "    nrmse.append(measure.compare_nrmse(result[i], truth[i]))\n",
    "    ssim.append(measure.compare_ssim(result[i], truth[i], data_range=1))\n",
    "\n",
    "# find the best and the worst images by ssim value  \n",
    "best_image_index = ssim.index(max(ssim))\n",
    "worst_image_index = ssim.index(min(ssim))"
   ]
  },
  {
   "cell_type": "markdown",
   "metadata": {},
   "source": [
    "## Average mse, nrmse psnr, ssim values"
   ]
  },
  {
   "cell_type": "code",
   "execution_count": null,
   "metadata": {},
   "outputs": [],
   "source": [
    "print(np.mean(mse), np.mean(nrmse), np.mean(psnr), np.mean(ssim))"
   ]
  },
  {
   "cell_type": "markdown",
   "metadata": {},
   "source": [
    "## Best image by ssim value"
   ]
  },
  {
   "cell_type": "code",
   "execution_count": null,
   "metadata": {},
   "outputs": [],
   "source": [
    "plt.figure(1, figsize=(10,10))\n",
    "\n",
    "plt.subplot(1, 3, 1)\n",
    "plt.axis('off')\n",
    "plt.title('Input')\n",
    "plt.imshow(imag[best_image_index, :, :, 0], cmap='gray')\n",
    "\n",
    "plt.subplot(1, 3, 2)\n",
    "plt.axis('off')\n",
    "plt.title('Reconstructed Image')\n",
    "plt.imshow(result[best_image_index, :, :, 0], cmap='gray')\n",
    "\n",
    "plt.subplot(1, 3, 3)\n",
    "plt.axis('off')\n",
    "plt.title('Ground Truth')\n",
    "plt.imshow(truth[best_image_index, :, :, 0], cmap='gray')\n",
    "\n",
    "plt.savefig('./images/{task_name}_best_ssim_{ssim:.4f}.jpg'.format(task_name=task_name, ssim=ssim[best_image_index]))"
   ]
  },
  {
   "cell_type": "markdown",
   "metadata": {},
   "source": [
    "## SSIM value of the best image"
   ]
  },
  {
   "cell_type": "code",
   "execution_count": null,
   "metadata": {},
   "outputs": [],
   "source": [
    "ssim[best_image_index]"
   ]
  },
  {
   "cell_type": "markdown",
   "metadata": {},
   "source": [
    "## Worst image by ssim value"
   ]
  },
  {
   "cell_type": "code",
   "execution_count": null,
   "metadata": {},
   "outputs": [],
   "source": [
    "plt.figure(2, figsize=(10,10))\n",
    "\n",
    "plt.subplot(1, 3, 1)\n",
    "plt.axis('off')\n",
    "plt.title('Input')\n",
    "plt.imshow(imag[worst_image_index, :, :, 0], cmap='gray')\n",
    "\n",
    "plt.subplot(1, 3, 2)\n",
    "plt.axis('off')\n",
    "plt.title('Reconstructed Image')\n",
    "plt.imshow(result[worst_image_index, :, :, 0], cmap='gray')\n",
    "\n",
    "plt.subplot(1, 3, 3)\n",
    "plt.axis('off')\n",
    "plt.title('Ground Truth')\n",
    "plt.imshow(truth[worst_image_index, :, :, 0], cmap='gray')\n",
    "\n",
    "plt.savefig('./images/{task_name}_worst_ssim_{ssim:.4f}.jpg'.format(task_name=task_name, ssim=ssim[worst_image_index]))"
   ]
  },
  {
   "cell_type": "markdown",
   "metadata": {},
   "source": [
    "## SSIM value of the worst image"
   ]
  },
  {
   "cell_type": "code",
   "execution_count": null,
   "metadata": {},
   "outputs": [],
   "source": [
    "ssim[worst_image_index]"
   ]
  },
  {
   "cell_type": "markdown",
   "metadata": {},
   "source": [
    "# Historgrams"
   ]
  },
  {
   "cell_type": "code",
   "execution_count": null,
   "metadata": {},
   "outputs": [],
   "source": [
    "figsize = (5, 5)"
   ]
  },
  {
   "cell_type": "code",
   "execution_count": null,
   "metadata": {},
   "outputs": [],
   "source": [
    "title = task_name"
   ]
  },
  {
   "cell_type": "code",
   "execution_count": null,
   "metadata": {},
   "outputs": [],
   "source": [
    "plt.figure(1)\n",
    "plt.title(title)\n",
    "plt.xlabel('SSIM')\n",
    "plt.hist(ssim, bins=50)\n",
    "\n",
    "plt.savefig('./images/{task_name}_hist_SSIM.jpg'.format(task_name=task_name))"
   ]
  },
  {
   "cell_type": "code",
   "execution_count": null,
   "metadata": {},
   "outputs": [],
   "source": [
    "plt.figure(2)\n",
    "plt.title(title)\n",
    "plt.xlabel('PSNR')\n",
    "plt.hist(psnr, bins=50)\n",
    "\n",
    "plt.savefig('./images/{task_name}_hist_PSNR.jpg'.format(task_name=task_name))"
   ]
  },
  {
   "cell_type": "code",
   "execution_count": null,
   "metadata": {},
   "outputs": [],
   "source": [
    "plt.figure(3)\n",
    "plt.title(title)\n",
    "plt.xlabel('MSE')\n",
    "plt.hist(mse, bins=50)\n",
    "\n",
    "plt.savefig('./images/{task_name}_hist_MSE.jpg'.format(task_name=task_name))"
   ]
  },
  {
   "cell_type": "code",
   "execution_count": null,
   "metadata": {},
   "outputs": [],
   "source": [
    "plt.figure(4)\n",
    "plt.title(title)\n",
    "plt.xlabel('NRMSE')\n",
    "plt.hist(nrmse, bins=50)\n",
    "\n",
    "plt.savefig('./images/{task_name}_hist_NRMSE.jpg'.format(task_name=task_name))"
   ]
  },
  {
   "cell_type": "code",
   "execution_count": null,
   "metadata": {},
   "outputs": [],
   "source": []
  }
 ],
 "metadata": {
  "kernelspec": {
   "display_name": "Python 3.7",
   "language": "python",
   "name": "python3.7"
  },
  "language_info": {
   "codemirror_mode": {
    "name": "ipython",
    "version": 3
   },
   "file_extension": ".py",
   "mimetype": "text/x-python",
   "name": "python",
   "nbconvert_exporter": "python",
   "pygments_lexer": "ipython3",
   "version": "3.7.4"
  }
 },
 "nbformat": 4,
 "nbformat_minor": 2
}
