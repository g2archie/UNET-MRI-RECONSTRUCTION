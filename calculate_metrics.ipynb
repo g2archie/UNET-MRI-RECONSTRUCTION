{
 "cells": [
  {
   "cell_type": "code",
   "execution_count": 1,
   "metadata": {},
   "outputs": [],
   "source": [
    "import os\n",
    "\n",
    "from skimage import *\n",
    "import numpy as np\n",
    "import h5py "
   ]
  },
  {
   "cell_type": "code",
   "execution_count": 2,
   "metadata": {},
   "outputs": [],
   "source": [
    "training_path = '/home/wentao/project/keras_training/'"
   ]
  },
  {
   "cell_type": "code",
   "execution_count": 3,
   "metadata": {},
   "outputs": [],
   "source": [
    "def get_subdirectories(path):\n",
    "    return [(name, os.path.join(path, name)) for name in os.listdir(path)\n",
    "            if os.path.isdir(os.path.join(path, name))]\n"
   ]
  },
  {
   "cell_type": "code",
   "execution_count": 4,
   "metadata": {},
   "outputs": [],
   "source": [
    "def calculate_metrics(result_file):\n",
    "    \n",
    "    f = h5py.File(training_result,'r') \n",
    "\n",
    "    result = np.array(f.get('result'))\n",
    "    truth = np.array(f.get('truth'))\n",
    "    imag = np.array(f.get('input'))\n",
    "    \n",
    "    psnr = []\n",
    "    mse = []\n",
    "    nrmse = []\n",
    "    ssim = []\n",
    "    for i in range(0, truth.shape[0]):\n",
    "        psnr.append(measure.compare_psnr(result[i],truth[i], 1))\n",
    "        mse.append(measure.compare_mse(result[i], truth[i]))\n",
    "        nrmse.append(measure.compare_nrmse(result[i], truth[i]))\n",
    "        ssim.append(measure.compare_ssim(result[i], truth[i], data_range=1))\n",
    "    \n",
    "    # find the best and the worst images by ssim value  \n",
    "    best_image_index = ssim.index(max(ssim))\n",
    "    worst_image_index = ssim.index(min(ssim))\n",
    "    \n",
    "    print(\"mse: {0:.4f}, nrmse: {1:.4f}, psnr: {2:.4f}, ssim: {3:.4f} \".format(np.mean(mse), np.mean(nrmse), np.mean(psnr), np.mean(ssim)))\n",
    "    print(\"best_ssim: {0:.4f}, worst_ssim: {1:.4f}\".format(ssim[best_image_index], ssim[worst_image_index]))"
   ]
  },
  {
   "cell_type": "code",
   "execution_count": 5,
   "metadata": {
    "scrolled": false
   },
   "outputs": [
    {
     "name": "stdout",
     "output_type": "stream",
     "text": [
      "UNet2D2D_SSIM_loss_no_regularization\n",
      "mse: 0.0024, nrmse: 0.1886, psnr: 26.6277, ssim: 0.8478 \n",
      "best_ssim: 0.9441, worst_ssim: 0.6771\n",
      "\n",
      "UNet3D_old_MAE_loss_no_regularization\n",
      "mse: 0.0022, nrmse: 0.1893, psnr: 27.1953, ssim: 0.8392 \n",
      "best_ssim: 0.9375, worst_ssim: 0.7034\n",
      "\n",
      "UNet2D2D_PSNR_loss_no_regularization\n",
      "mse: 0.0027, nrmse: 0.2227, psnr: 26.8118, ssim: 0.8069 \n",
      "best_ssim: 0.9266, worst_ssim: 0.6123\n",
      "\n",
      "UNet3D_old_MAE_loss_l1_regularization\n",
      "UNet3D_old_SSIM_loss_l2_regularization\n",
      "mse: 0.0024, nrmse: 0.1971, psnr: 26.8864, ssim: 0.8533 \n",
      "best_ssim: 0.9468, worst_ssim: 0.7080\n",
      "\n",
      "UNet2D2D_MAE_loss_no_regularization\n",
      "mse: 0.0024, nrmse: 0.2074, psnr: 26.9778, ssim: 0.8288 \n",
      "best_ssim: 0.9296, worst_ssim: 0.7131\n",
      "\n",
      "UNet3D_old_MSE_loss_l2_regularization\n",
      "mse: 0.0030, nrmse: 0.2223, psnr: 25.8929, ssim: 0.7805 \n",
      "best_ssim: 0.9036, worst_ssim: 0.6013\n",
      "\n",
      "mse: 0.0029, nrmse: 0.2156, psnr: 25.9704, ssim: 0.7944 \n",
      "best_ssim: 0.9020, worst_ssim: 0.6442\n",
      "\n",
      "UNet2D2D_BCE_loss_no_regularization\n",
      "mse: 0.0029, nrmse: 0.2358, psnr: 26.2592, ssim: 0.8273 \n",
      "best_ssim: 0.9225, worst_ssim: 0.6913\n",
      "\n",
      "UNet3D_old_PSNR_loss_no_regularization\n",
      "mse: 0.0029, nrmse: 0.2375, psnr: 26.7484, ssim: 0.8324 \n",
      "best_ssim: 0.9429, worst_ssim: 0.6334\n",
      "\n",
      "UNet3D_old_MSE_loss_l1_regularization\n",
      "mse: 0.0047, nrmse: 0.2849, psnr: 23.7560, ssim: 0.7048 \n",
      "best_ssim: 0.8606, worst_ssim: 0.4963\n",
      "\n",
      "mse: 0.0045, nrmse: 0.3015, psnr: 24.0707, ssim: 0.7122 \n",
      "best_ssim: 0.8559, worst_ssim: 0.4831\n",
      "\n",
      "UNet3D_old_SSIM_loss_no_regularization\n",
      "mse: 0.0020, nrmse: 0.1756, psnr: 27.6945, ssim: 0.8776 \n",
      "best_ssim: 0.9523, worst_ssim: 0.7699\n",
      "\n",
      "UNet3D_old_BCE_loss_l1_regularization\n",
      "UNet2D1D_MAE_loss_no_regularization\n",
      "UNet3D_old_MAE_loss_l2_regularization\n",
      "mse: 0.0024, nrmse: 0.2059, psnr: 27.1357, ssim: 0.8431 \n",
      "best_ssim: 0.9367, worst_ssim: 0.6923\n",
      "\n",
      "UNet3D_old_BCE_loss_l2_regularization\n",
      "UNet3D_old_MSE_loss_no_regularization\n",
      "mse: 0.0019, nrmse: 0.1750, psnr: 27.8391, ssim: 0.8186 \n",
      "best_ssim: 0.9235, worst_ssim: 0.6555\n",
      "\n",
      "UNet3D_old_PSNR_loss_l2_regularization\n",
      "mse: 0.0017, nrmse: 0.1618, psnr: 28.2021, ssim: 0.8665 \n",
      "best_ssim: 0.9493, worst_ssim: 0.7518\n",
      "\n",
      "UNet3D_old_PSNR_loss_l1_regularization\n",
      "mse: 0.0025, nrmse: 0.1931, psnr: 26.8094, ssim: 0.8331 \n",
      "best_ssim: 0.9383, worst_ssim: 0.6999\n",
      "\n",
      "UNet2D2D_MSE_loss_no_regularization\n",
      "mse: 0.0020, nrmse: 0.1837, psnr: 27.7821, ssim: 0.8280 \n",
      "best_ssim: 0.9301, worst_ssim: 0.6775\n",
      "\n",
      "UNet3D_old_SSIM_loss_l1_regularization\n",
      "mse: 0.0030, nrmse: 0.2205, psnr: 25.9471, ssim: 0.8289 \n",
      "best_ssim: 0.9448, worst_ssim: 0.6723\n",
      "\n",
      "UNet3D_old_BCE_loss_no_regularization\n",
      "mse: 0.0021, nrmse: 0.1899, psnr: 27.4018, ssim: 0.8371 \n",
      "best_ssim: 0.9381, worst_ssim: 0.7252\n",
      "\n"
     ]
    }
   ],
   "source": [
    "for task_name, path in get_subdirectories(training_path):\n",
    "    print(task_name)\n",
    "    for dirpath, dirnames, filenames in os.walk(path):\n",
    "        for filename in [f for f in filenames if f.endswith(\".h5\")]:\n",
    "            training_result = os.path.join(dirpath, filename)\n",
    "            calculate_metrics(training_result)\n",
    "            print()"
   ]
  },
  {
   "cell_type": "code",
   "execution_count": null,
   "metadata": {},
   "outputs": [],
   "source": []
  }
 ],
 "metadata": {
  "kernelspec": {
   "display_name": "Python 3.7",
   "language": "python",
   "name": "python3.7"
  },
  "language_info": {
   "codemirror_mode": {
    "name": "ipython",
    "version": 3
   },
   "file_extension": ".py",
   "mimetype": "text/x-python",
   "name": "python",
   "nbconvert_exporter": "python",
   "pygments_lexer": "ipython3",
   "version": "3.7.4"
  }
 },
 "nbformat": 4,
 "nbformat_minor": 2
}
